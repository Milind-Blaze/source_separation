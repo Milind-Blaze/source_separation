{
 "cells": [
  {
   "cell_type": "markdown",
   "metadata": {},
   "source": [
    "\\begin{equation}\n",
    "SNR(m,j) = \\frac{\\sum\\nolimits_{k,t} [Y_m]^{2}_{k,t}}{\\sum\\nolimits_{k,t} ([Y_m]_{k,t}- [\\hat{Y_j}]_{k,t})^2 }\n",
    "\\end{equation}"
   ]
  },
  {
   "cell_type": "markdown",
   "metadata": {},
   "source": [
    "$\\sum\\nolimits_{k,t} [Y_m]^{2}_{k,t}$"
   ]
  },
  {
   "cell_type": "markdown",
   "metadata": {},
   "source": [
    "$\\sum\\nolimits_{k,t} ([Y_m]_{k,t}- [\\hat{Y_j}]_{k,t})^2 $"
   ]
  },
  {
   "cell_type": "markdown",
   "metadata": {},
   "source": [
    "$Y_m$ = magnitude spectrogram of the $m^{th}$ reference \n",
    "\n",
    "$\\hat{Y_j}$ = magnitude spectrogram of the $j^{th}$ separated component\n",
    "\n",
    "That j m mapping which gives the highest SNR is used."
   ]
  },
  {
   "cell_type": "markdown",
   "metadata": {},
   "source": [
    "$\\nabla$"
   ]
  },
  {
   "cell_type": "markdown",
   "metadata": {},
   "source": [
    "\\begin{equation}\n",
    "\\nabla c_{r}^{+} (\\textbf{W, H}) = \\textbf{W}^\\textbf{T}\\textbf{1}   \n",
    "\\end{equation}"
   ]
  },
  {
   "cell_type": "markdown",
   "metadata": {},
   "source": [
    "\\begin{equation}\n",
    "\\nabla c_{r}^{-} (\\textbf{W, H}) = \\textbf{W}^\\textbf{T}\\frac{\\textbf{V}}{\\textbf{WH}}   \n",
    "\\end{equation}"
   ]
  },
  {
   "cell_type": "markdown",
   "metadata": {},
   "source": [
    "\\begin{equation}\n",
    "[\\nabla c_{t}^{+} (\\textbf{H})]_{j,t} = \\frac{4Th_{j,t}}{\\sum_{i=1}^{T} h^{2}_{j,i} }   \n",
    "\\end{equation}"
   ]
  },
  {
   "cell_type": "markdown",
   "metadata": {},
   "source": [
    "\\begin{equation}\n",
    "[\\nabla c_{t}^{-} (\\textbf{H})]_{j,t} = 2T\\frac{h_{j,t-1}+h_{j,t+1}}{\\sum_{i=1}^{T} h^{2}_{j,i}} + \\frac{2Th_{j,t}\\sum_{i=2}^{T} (h_{j,i}-h_{j,i-1})^2}{\\sum_{i=1}^{T} h^{2}_{j,i} }    \n",
    "\\end{equation}"
   ]
  },
  {
   "cell_type": "markdown",
   "metadata": {},
   "source": [
    "\\begin{equation}\n",
    "[\\nabla c_{s}^{+} (\\textbf{H})]_{j,t} = \\frac{1}{\\sqrt{\\frac{1}{T}\\sum_{i=1}^{T} h^{2}_{j,i}} }   \n",
    "\\end{equation}"
   ]
  },
  {
   "cell_type": "markdown",
   "metadata": {},
   "source": [
    "\\begin{equation}\n",
    "[\\nabla c_{s}^{-} (\\textbf{H})]_{j,t} = \\frac{h_{j,t}\\sqrt{T}\\sum_{i=1}^{T} h_{j,i}}{\\left(\\sum_{i=1}^{T} h^{2}_{j,i}\\right)^2 }    \n",
    "\\end{equation}"
   ]
  },
  {
   "cell_type": "markdown",
   "metadata": {},
   "source": [
    "\\textbf{}"
   ]
  },
  {
   "cell_type": "code",
   "execution_count": null,
   "metadata": {},
   "outputs": [],
   "source": []
  }
 ],
 "metadata": {
  "kernelspec": {
   "display_name": "Python 3",
   "language": "python",
   "name": "python3"
  },
  "language_info": {
   "codemirror_mode": {
    "name": "ipython",
    "version": 3
   },
   "file_extension": ".py",
   "mimetype": "text/x-python",
   "name": "python",
   "nbconvert_exporter": "python",
   "pygments_lexer": "ipython3",
   "version": "3.6.4"
  }
 },
 "nbformat": 4,
 "nbformat_minor": 2
}
